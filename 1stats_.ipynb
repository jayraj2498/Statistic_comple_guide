{
 "cells": [
  {
   "cell_type": "markdown",
   "metadata": {},
   "source": [
    "## Statistics is broadly divided into two main branches: descriptive statistics and inferential statistics. These branches   ## serve different purposes in the analysis of data."
   ]
  },
  {
   "cell_type": "markdown",
   "metadata": {},
   "source": [
    "\n",
    "\n",
    "### Descriptive Statistics:\n",
    "\n",
    "#### Measures of Central Tendency:\n",
    "Mean: The average of a set of values.\n",
    "\n",
    "Median: The middle value in a dataset when it is ordered.\n",
    "\n",
    "Mode: The most frequently occurring value.\n",
    "\n",
    "#### Measures of Dispersion:\n",
    "Range: The difference between the maximum and minimum values in a dataset.\n",
    "\n",
    "Variance: A measure of how spread out a set of values is.\n",
    "\n",
    "Standard Deviation: A standardized measure of the amount of variation in a set of values.\n",
    "\n",
    "#### Frequency Distributions:\n",
    "Histograms: Visual representation of the distribution of a dataset.\n",
    "\n",
    "Box Plots: Summarizes the distribution of a dataset.\n",
    "\n",
    "Percentiles and Quartiles:\n",
    "Percentiles: A measure indicating the relative standing of a particular value within a dataset.\n",
    "\n",
    "Quartiles: Values that divide a dataset into four equal parts.\n",
    "\n"
   ]
  },
  {
   "cell_type": "markdown",
   "metadata": {},
   "source": [
    "# cenario:\n",
    "# You have data on the daily number of steps taken by three friends (Alice, Bob, and Carol) over a week."
   ]
  },
  {
   "cell_type": "markdown",
   "metadata": {},
   "source": [
    "Daily Step Counts:\n",
    "\n",
    "Alice: 500, 700, 600, 800, 750, 900, 550\n",
    "\n",
    "Bob: 600, 750, 700, 850, 800, 950, 500\n",
    "\n",
    "Carol: 700, 800, 750, 900, 600, 850, 550\n",
    "\n",
    "Now, let's apply some basic descriptive statistics:"
   ]
  },
  {
   "cell_type": "markdown",
   "metadata": {},
   "source": [
    "Mean (Average):\n",
    "\n",
    "Calculate the mean for each friend.\n",
    "\n",
    "Alice's mean: (500 + 700 + 600 + 800 + 750 + 900 + 550) / 7 = 692.86\n",
    "\n",
    "Bob's mean: (600 + 750 + 700 + 850 + 800 + 950 + 500) / 7 = 757.14\n",
    "\n",
    "Carol's mean: (700 + 800 + 750 + 900 + 600 + 850 + 550) / 7 = 778.57"
   ]
  },
  {
   "cell_type": "code",
   "execution_count": 1,
   "metadata": {},
   "outputs": [
    {
     "name": "stdout",
     "output_type": "stream",
     "text": [
      "Alice's mean: 685.71\n",
      "Bob's mean: 735.71\n",
      "Carol's mean: 735.71\n"
     ]
    }
   ],
   "source": [
    "# Daily step counts for each friend\n",
    "alice_steps = [500, 700, 600, 800, 750, 900, 550]\n",
    "bob_steps = [600, 750, 700, 850, 800, 950, 500]\n",
    "carol_steps = [700, 800, 750, 900, 600, 850, 550]\n",
    "\n",
    "# Function to calculate mean\n",
    "def calculate_mean(steps):\n",
    "    return sum(steps) / len(steps)\n",
    "\n",
    "# Calculate mean for each friend\n",
    "alice_mean = calculate_mean(alice_steps)\n",
    "bob_mean = calculate_mean(bob_steps)\n",
    "carol_mean = calculate_mean(carol_steps)\n",
    "\n",
    "# Print the results\n",
    "print(\"Alice's mean:\", round(alice_mean, 2))\n",
    "print(\"Bob's mean:\", round(bob_mean, 2))\n",
    "print(\"Carol's mean:\", round(carol_mean, 2))\n"
   ]
  },
  {
   "cell_type": "markdown",
   "metadata": {},
   "source": [
    "Standard Deviation:\n",
    "\n",
    "Estimate the variability for each friend.\n",
    "\n",
    "Alice's standard deviation: 126.68 (approximately)\n",
    "\n",
    "Bob's standard deviation: 129.73 (approximately)\n",
    "\n",
    "Carol's standard deviation: 104.80 (approximately)"
   ]
  },
  {
   "cell_type": "code",
   "execution_count": 2,
   "metadata": {},
   "outputs": [
    {
     "name": "stdout",
     "output_type": "stream",
     "text": [
      "Alice's standard deviation: 143.51\n",
      "Bob's standard deviation: 151.97\n",
      "Carol's standard deviation: 128.17\n"
     ]
    }
   ],
   "source": [
    "import statistics\n",
    "\n",
    "# Daily step counts for each friend\n",
    "alice_steps = [500, 700, 600, 800, 750, 900, 550]\n",
    "bob_steps = [600, 750, 700, 850, 800, 950, 500]\n",
    "carol_steps = [700, 800, 750, 900, 600, 850, 550]\n",
    "\n",
    "# Calculate standard deviation for each friend\n",
    "alice_std_dev = statistics.stdev(alice_steps)\n",
    "bob_std_dev = statistics.stdev(bob_steps)\n",
    "carol_std_dev = statistics.stdev(carol_steps)\n",
    "\n",
    "# Print the results\n",
    "print(\"Alice's standard deviation:\", round(alice_std_dev, 2))\n",
    "print(\"Bob's standard deviation:\", round(bob_std_dev, 2))\n",
    "print(\"Carol's standard deviation:\", round(carol_std_dev, 2))\n"
   ]
  },
  {
   "cell_type": "markdown",
   "metadata": {},
   "source": [
    "Histogram:\n",
    "\n",
    "Visualize the distribution of daily step counts for each friend.\n",
    "\n",
    "A histogram might show the distribution of steps, indicating the most common ranges for each friend."
   ]
  },
  {
   "cell_type": "code",
   "execution_count": 3,
   "metadata": {},
   "outputs": [
    {
     "data": {
      "image/png": "[encoded data removed]",
      "text/plain": [
       "<Figure size 1000x600 with 1 Axes>"
      ]
     },
     "metadata": {},
     "output_type": "display_data"
    }
   ],
   "source": [
    "import matplotlib.pyplot as plt\n",
    "\n",
    "# Daily step counts for each friend\n",
    "alice_steps = [500, 700, 600, 800, 750, 900, 550]\n",
    "bob_steps = [600, 750, 700, 850, 800, 950, 500]\n",
    "carol_steps = [700, 800, 750, 900, 600, 850, 550]\n",
    "\n",
    "# Create histograms\n",
    "plt.figure(figsize=(10, 6))\n",
    "\n",
    "plt.hist(alice_steps, bins=20, color='skyblue', alpha=0.7, label='Alice')\n",
    "plt.hist(bob_steps, bins=20, color='salmon', alpha=0.7, label='Bob')\n",
    "plt.hist(carol_steps, bins=20, color='green', alpha=0.7, label='Carol')\n",
    "\n",
    "# Add labels and title\n",
    "plt.xlabel('Daily Step Counts')\n",
    "plt.ylabel('Frequency')\n",
    "plt.title('Distribution of Daily Step Counts for Each Friend')\n",
    "plt.legend()\n",
    "\n",
    "# Show the plot\n",
    "plt.show()\n"
   ]
  },
  {
   "cell_type": "markdown",
   "metadata": {},
   "source": [
    "## median and mode also "
   ]
  },
  {
   "cell_type": "code",
   "execution_count": 4,
   "metadata": {},
   "outputs": [
    {
     "name": "stdout",
     "output_type": "stream",
     "text": [
      "Alice's median: 700\n",
      "Bob's median: 750\n",
      "Carol's median: 750\n",
      "\n",
      "Alice's mode: 500\n",
      "Bob's mode: 600\n",
      "Carol's mode: 700\n"
     ]
    }
   ],
   "source": [
    "from statistics import median, mode\n",
    "\n",
    "# Daily step counts for each friend\n",
    "alice_steps = [500, 700, 600, 800, 750, 900, 550]\n",
    "bob_steps = [600, 750, 700, 850, 800, 950, 500]\n",
    "carol_steps = [700, 800, 750, 900, 600, 850, 550]\n",
    "\n",
    "# Calculate median for each friend\n",
    "alice_median = median(alice_steps)\n",
    "bob_median = median(bob_steps)\n",
    "carol_median = median(carol_steps)\n",
    "\n",
    "# Calculate mode for each friend\n",
    "alice_mode = mode(alice_steps)\n",
    "bob_mode = mode(bob_steps)\n",
    "carol_mode = mode(carol_steps)\n",
    "\n",
    "# Print the results\n",
    "print(\"Alice's median:\", alice_median)\n",
    "print(\"Bob's median:\", bob_median)\n",
    "print(\"Carol's median:\", carol_median)\n",
    "\n",
    "print(\"\\nAlice's mode:\", alice_mode)\n",
    "print(\"Bob's mode:\", bob_mode)\n",
    "print(\"Carol's mode:\", carol_mode)\n"
   ]
  },
  {
   "cell_type": "markdown",
   "metadata": {},
   "source": [
    "Assess the difference between the highest and lowest values for each friend.\n",
    "\n",
    "Alice's range: 900 - 500 = 400\n",
    "\n",
    "Bob's range: 950 - 500 = 450\n",
    "\n",
    "Carol's range: 900 - 550 = 350"
   ]
  },
  {
   "cell_type": "code",
   "execution_count": 5,
   "metadata": {},
   "outputs": [
    {
     "name": "stdout",
     "output_type": "stream",
     "text": [
      "Alice's range: 400\n",
      "Bob's range: 450\n",
      "Carol's range: 350\n"
     ]
    }
   ],
   "source": [
    "# Daily step counts for each friend\n",
    "alice_steps = [500, 700, 600, 800, 750, 900, 550]\n",
    "bob_steps = [600, 750, 700, 850, 800, 950, 500]\n",
    "carol_steps = [700, 800, 750, 900, 600, 850, 550]\n",
    "\n",
    "# Calculate range for each friend\n",
    "alice_range = max(alice_steps) - min(alice_steps)\n",
    "bob_range = max(bob_steps) - min(bob_steps)\n",
    "carol_range = max(carol_steps) - min(carol_steps)\n",
    "\n",
    "# Print the results\n",
    "print(\"Alice's range:\", alice_range)\n",
    "print(\"Bob's range:\", bob_range)\n",
    "print(\"Carol's range:\", carol_range)\n"
   ]
  },
  {
   "cell_type": "code",
   "execution_count": null,
   "metadata": {},
   "outputs": [],
   "source": []
  },
  {
   "cell_type": "markdown",
   "metadata": {},
   "source": [
    "Quartiles:\n",
    "\n",
    "Divide the data into four equal parts for each friend.\n",
    "\n",
    "Alice's quartiles: Q1 ≈ 575, Q2 (median) = 750, Q3 ≈ 800\n",
    "\n",
    "Bob's quartiles: Q1 ≈ 700, Q2 (median) = 750, Q3 ≈ 825\n",
    "\n",
    "Carol's quartiles: Q1 ≈ 625, Q2 (median) = 750, Q3 ≈ 825"
   ]
  },
  {
   "cell_type": "code",
   "execution_count": 6,
   "metadata": {},
   "outputs": [
    {
     "name": "stdout",
     "output_type": "stream",
     "text": [
      "Alice's quartiles: Q1 ≈ 575.0 , Q2 (median) = 700.0 , Q3 ≈ 775.0\n",
      "Bob's quartiles: Q1 ≈ 650.0 , Q2 (median) = 750.0 , Q3 ≈ 825.0\n",
      "Carol's quartiles: Q1 ≈ 650.0 , Q2 (median) = 750.0 , Q3 ≈ 825.0\n"
     ]
    }
   ],
   "source": [
    "import numpy as np\n",
    "\n",
    "# Daily step counts for each friend\n",
    "alice_steps = [500, 700, 600, 800, 750, 900, 550]\n",
    "bob_steps = [600, 750, 700, 850, 800, 950, 500]\n",
    "carol_steps = [700, 800, 750, 900, 600, 850, 550]\n",
    "\n",
    "# Calculate quartiles for each friend\n",
    "alice_quartiles = np.percentile(alice_steps, [25, 50, 75])\n",
    "bob_quartiles = np.percentile(bob_steps, [25, 50, 75])\n",
    "carol_quartiles = np.percentile(carol_steps, [25, 50, 75])\n",
    "\n",
    "# Print the results\n",
    "print(\"Alice's quartiles:\", \"Q1 ≈\", round(alice_quartiles[0], 2), \", Q2 (median) =\", round(alice_quartiles[1], 2), \", Q3 ≈\", round(alice_quartiles[2], 2))\n",
    "print(\"Bob's quartiles:\", \"Q1 ≈\", round(bob_quartiles[0], 2), \", Q2 (median) =\", round(bob_quartiles[1], 2), \", Q3 ≈\", round(bob_quartiles[2], 2))\n",
    "print(\"Carol's quartiles:\", \"Q1 ≈\", round(carol_quartiles[0], 2), \", Q2 (median) =\", round(carol_quartiles[1], 2), \", Q3 ≈\", round(carol_quartiles[2], 2))\n"
   ]
  },
  {
   "cell_type": "code",
   "execution_count": null,
   "metadata": {},
   "outputs": [],
   "source": []
  },
  {
   "cell_type": "code",
   "execution_count": null,
   "metadata": {},
   "outputs": [],
   "source": []
  },
  {
   "cell_type": "code",
   "execution_count": null,
   "metadata": {},
   "outputs": [],
   "source": []
  },
  {
   "cell_type": "code",
   "execution_count": null,
   "metadata": {},
   "outputs": [],
   "source": []
  },
  {
   "cell_type": "code",
   "execution_count": null,
   "metadata": {},
   "outputs": [],
   "source": []
  },
  {
   "cell_type": "code",
   "execution_count": null,
   "metadata": {},
   "outputs": [],
   "source": []
  },
  {
   "cell_type": "code",
   "execution_count": null,
   "metadata": {},
   "outputs": [],
   "source": []
  },
  {
   "cell_type": "code",
   "execution_count": null,
   "metadata": {},
   "outputs": [],
   "source": []
  },
  {
   "cell_type": "code",
   "execution_count": null,
   "metadata": {},
   "outputs": [],
   "source": []
  },
  {
   "cell_type": "markdown",
   "metadata": {},
   "source": [
    "## Inferential Statistics:\n",
    "\n",
    "\n",
    "### Probability Distributions:\n",
    "\n",
    "\n",
    "### Normal Distribution: A symmetric, bell-shaped probability distribution often used in statistical modeling.\n",
    "\n",
    "### Binomial Distribution: Describes the number of successes in a fixed number of independent Bernoulli trials.\n",
    "\n",
    "### Hypothesis Testing:\n",
    "Null Hypothesis (H0) and Alternative Hypothesis (H1): A statistical test to make inferences about a population parameter based on a sample of data.\n",
    "\n",
    "#### Significance Level: The threshold for rejecting the null hypothesis.\n",
    "\n",
    "#### P-value: The probability of obtaining a result as extreme as the one observed, assuming the null hypothesis is true.\n",
    "\n",
    "### Regression Analysis:\n",
    "\n",
    "\n",
    "### Linear Regression: A method for modeling the relationship between a dependent variable and one or more independent variables.\n",
    "### Correlation: Measures the strength and direction of a linear relationship between two variables.\n",
    "\n",
    "### Analysis of Variance (ANOVA):\n",
    "Used to analyze the differences among group means in a sample.\n",
    "\n",
    "### Sampling Techniques:\n",
    "#### Random Sampling: Ensures that every member of a population has an equal chance of being included in the sample.\n",
    "#### Stratified Sampling: Divides the population into subgroups and then samples randomly from each subgroup.\n",
    "#### Cluster Sampling: Divides the population into clusters and then randomly selects some clusters to analyze.\n",
    "\n",
    "\n",
    "### Confidence Intervals:\n",
    "A range of values used to estimate the true value of a population parameter with a certain level of confidence.\n",
    "These branches are interconnected, with descriptive statistics providing a summary of data, and inferential statistics making predictions or inferences about a population based on a sample. Together, they form the foundation for statistical analysis and decision-making in various fields, including data science\n",
    "\n",
    "Probability Distributions:\n",
    "\n",
    "#### Normal Distribution: A symmetric, bell-shaped probability distribution often used in statistical modeling.\n",
    "\n",
    "#### Binomial Distribution: Describes the number of successes in a fixed number of independent Bernoulli trials.\n",
    "\n",
    "#### Hypothesis Testing:\n",
    "Null Hypothesis (H0) and Alternative Hypothesis (H1): A statistical test to make inferences about a population parameter based on a sample of data.\n",
    "Significance Level: The threshold for rejecting the null hypothesis.\n",
    "\n",
    "#### P-value: The probability of obtaining a result as extreme as the one observed, assuming the null hypothesis is true.\n",
    "\n",
    "### Regression Analysis:\n",
    "\n",
    "#### Linear Regression: A method for modeling the relationship between a dependent variable and one or more independent variables.\n",
    "#### Correlation: Measures the strength and direction of a linear relationship between two variables.\n",
    "\n",
    "#### Analysis of Variance (ANOVA):\n",
    "Used to analyze the differences among group means in a sample.\n",
    "\n",
    "### Sampling Techniques:\n",
    "#### Random Sampling: Ensures that every member of a population has an equal chance of being included in the sample.\n",
    "\n",
    "#### Stratified Sampling: Divides the population into subgroups and then samples randomly from each subgroup.\n",
    "\n",
    "#### Cluster Sampling: Divides the population into clusters and then randomly selects some clusters to analyze.\n",
    "\n",
    "#### Confidence Intervals:\n",
    "A range of values used to estimate the true value of a population parameter with a certain level of confidence.\n",
    "These branches are interconnected, with descriptive statistics providing a summary of data, and inferential statistics making predictions or inferences about a population based on a sample. Together, they form the foundation for statistical analysis and decision-making in various fields, including data science."
   ]
  },
  {
   "cell_type": "code",
   "execution_count": null,
   "metadata": {},
   "outputs": [],
   "source": []
  }
 ],
 "metadata": {
  "kernelspec": {
   "display_name": "base",
   "language": "python",
   "name": "python3"
  },
  "language_info": {
   "codemirror_mode": {
    "name": "ipython",
    "version": 3
   },
   "file_extension": ".py",
   "mimetype": "text/x-python",
   "name": "python",
   "nbconvert_exporter": "python",
   "pygments_lexer": "ipython3",
   "version": "3.11.5"
  }
 },
 "nbformat": 4,
 "nbformat_minor": 2
}
