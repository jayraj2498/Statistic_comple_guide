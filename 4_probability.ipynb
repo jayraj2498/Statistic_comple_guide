{
 "cells": [
  {
   "cell_type": "markdown",
   "metadata": {},
   "source": [
    "## Probability:\n",
    "Definition: Probability is a measure of how likely an event is to occur. It's expressed as a number between 0 and 1, where 0 indicates impossibility, and 1 indicates certainty.\n",
    "\n",
    "Basic Explanation:\n",
    "If you flip a fair coin, the probability of getting heads is 0.5 (50%), and the probability of getting tails is also 0.5.\n",
    "\n",
    "\n",
    "## 2. Multiplication Rule:\n",
    "Definition: The multiplication rule calculates the probability of two independent events happening together.\n",
    "Basic Explanation:\n",
    "\n",
    "If you roll a die and flip a coin, the probability of rolling a 4 and getting heads is the product of the probabilities of each event.\n",
    "rolling a 4 and getting heads\n",
    "\n",
    "rolling a 4\n",
    "\n",
    "getting heads\n",
    "\n",
    "P(rolling a 4 and getting heads)=P(rolling a 4)×P(getting heads).\n",
    "\n",
    "\n",
    "## 3. Permutation and Combination:\n",
    "### Permutation:\n",
    "Definition: Permutation is about arranging items in a specific order.\n",
    "Basic Explanation:\n",
    "If you have three books (A, B, C), the permutations of choosing two books in order could be AB, BA, AC, CA, BC, CB.\n",
    "Key Points:\n",
    "\n",
    "### Combination:\n",
    "Definition: Combination is about selecting items without considering the order.\n",
    "Basic Explanation:\n",
    "If you have three books (A, B, C), the combinations of choosing two books without caring about the order could be AB, AC, BC.\n"
   ]
  },
  {
   "cell_type": "code",
   "execution_count": null,
   "metadata": {},
   "outputs": [],
   "source": []
  }
 ],
 "metadata": {
  "language_info": {
   "name": "python"
  }
 },
 "nbformat": 4,
 "nbformat_minor": 2
}
