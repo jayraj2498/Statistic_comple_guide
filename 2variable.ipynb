{
 "cells": [
  {
   "cell_type": "markdown",
   "metadata": {},
   "source": [
    "\n",
    "## Types of Variables:\n",
    "###  Categorical (Qualitative) Variables:\n",
    "\n",
    "Nominal Variables: Categories with no inherent order or ranking (e.g., colors, gender).\n",
    "Ordinal Variables: Categories with a meaningful order or ranking (e.g., education levels, survey ratings).\n",
    "Numerical (Quantitative) Variables:\n",
    "\n",
    "### Discrete Variables: Countable and have distinct values (e.g., number of students in a class).\n",
    "\n",
    "Continuous Variables: Can take any value within a range (e.g., height, weight).\n",
    "\n",
    "### 2. Dependent and Independent Variables:\n",
    "Dependent Variable (Response Variable): The variable being studied and measured. It depends on other variables.\n",
    "Independent Variable (Explanatory Variable): The variable that is manipulated or controlled. It is used to predict or explain changes in the dependent variable.\n",
    "\n",
    "### 3. Role of Variables in Hypothesis Testing:\n",
    "In hypothesis testing, the dependent variable is often the one researchers are interested in studying, while the independent variable is manipulated to observe its effect.\n",
    "\n",
    "### 4. Role of Variables in Regression Analysis:\n",
    "In regression analysis, variables are used to model relationships between different factors. For example, predicting house prices based on various features (independent variables) like square footage, number of bedrooms, etc.\n",
    "\n",
    "### 5. Data Types:\n",
    "Qualitative Data: Describes qualities or characteristics and can be categorical.\n",
    "Quantitative Data: Consists of numerical values and can be discrete or continuous.\n",
    "\n",
    "### 6. Variable Distributions:\n",
    "Normal Distribution: A symmetric distribution with a bell-shaped curve, often observed in many natural phenomena.\n",
    "Skewed Distribution: A distribution that is not symmetrical, with more values on one side than the other."
   ]
  },
  {
   "cell_type": "code",
   "execution_count": null,
   "metadata": {},
   "outputs": [],
   "source": []
  },
  {
   "cell_type": "code",
   "execution_count": 2,
   "metadata": {},
   "outputs": [
    {
     "name": "stdout",
     "output_type": "stream",
     "text": [
      "Colors of Cars: ['Red', 'Blue', 'Green', 'Yellow', 'Black', 'White']\n"
     ]
    }
   ],
   "source": [
    "# A nominal variable is a categorical variable without any inherent order or ranking.\n",
    "\n",
    "# Nominal variable representing colors of cars\n",
    "car_colors = ['Red', 'Blue', 'Green', 'Yellow', 'Black', 'White']\n",
    "\n",
    "# Print the nominal variable\n",
    "print(\"Colors of Cars:\", car_colors)\n"
   ]
  },
  {
   "cell_type": "code",
   "execution_count": 3,
   "metadata": {},
   "outputs": [
    {
     "name": "stdout",
     "output_type": "stream",
     "text": [
      "Educational Levels: ['High School', 'Associate', 'Bachelor', 'Master', 'PhD']\n"
     ]
    }
   ],
   "source": [
    "# An ordinal variable is a categorical variable with a meaningful order or ranking.\n",
    "\n",
    "# Ordinal variable representing educational levels\n",
    "education_levels = ['High School', 'Associate', 'Bachelor', 'Master', 'PhD']\n",
    "\n",
    "# Print the ordinal variable\n",
    "print(\"Educational Levels:\", education_levels)\n"
   ]
  },
  {
   "cell_type": "code",
   "execution_count": 4,
   "metadata": {},
   "outputs": [
    {
     "name": "stdout",
     "output_type": "stream",
     "text": [
      "Temperatures in Celsius: [20, 25, 30, 15, 10]\n"
     ]
    }
   ],
   "source": [
    "# An interval variable is a numerical variable where the differences between values are meaningful, but there is no true zero point.\n",
    "\n",
    "# Interval variable representing temperatures in Celsius\n",
    "temperature_celsius = [20, 25, 30, 15, 10]\n",
    "\n",
    "# Print the interval variable\n",
    "print(\"Temperatures in Celsius:\", temperature_celsius)\n"
   ]
  },
  {
   "cell_type": "code",
   "execution_count": 5,
   "metadata": {},
   "outputs": [
    {
     "name": "stdout",
     "output_type": "stream",
     "text": [
      "Temperatures in Celsius: [20, 25, 30, 15, 10]\n"
     ]
    }
   ],
   "source": [
    "# An interval variable is a numerical variable where the differences between values are meaningful, but there is no true zero point.\n",
    "\n",
    "# Interval variable representing temperatures in Celsius\n",
    "temperature_celsius = [20, 25, 30, 15, 10]\n",
    "\n",
    "# Print the interval variable\n",
    "print(\"Temperatures in Celsius:\", temperature_celsius)\n"
   ]
  },
  {
   "cell_type": "code",
   "execution_count": null,
   "metadata": {},
   "outputs": [],
   "source": []
  },
  {
   "cell_type": "markdown",
   "metadata": {},
   "source": [
    "### frequency distribution"
   ]
  },
  {
   "cell_type": "code",
   "execution_count": 6,
   "metadata": {},
   "outputs": [
    {
     "name": "stdout",
     "output_type": "stream",
     "text": [
      "Frequency Distribution:\n",
      "Score 85: 2 times\n",
      "Score 92: 2 times\n",
      "Score 88: 3 times\n",
      "Score 78: 1 times\n",
      "Score 95: 1 times\n",
      "Score 90: 1 times\n"
     ]
    }
   ],
   "source": [
    "# Exam scores dataset\n",
    "exam_scores = [85, 92, 88, 78, 95, 88, 90, 92, 85, 88]\n",
    "\n",
    "# Calculate frequency distribution\n",
    "frequency_dist = {}\n",
    "for score in exam_scores:\n",
    "    if score in frequency_dist:\n",
    "        frequency_dist[score] += 1\n",
    "    else:\n",
    "        frequency_dist[score] = 1\n",
    "\n",
    "# Print the frequency distribution\n",
    "print(\"Frequency Distribution:\")\n",
    "for score, count in frequency_dist.items():\n",
    "    print(f\"Score {score}: {count} times\")\n"
   ]
  },
  {
   "cell_type": "code",
   "execution_count": null,
   "metadata": {},
   "outputs": [],
   "source": []
  },
  {
   "cell_type": "markdown",
   "metadata": {},
   "source": [
    "### cumulative frequency"
   ]
  },
  {
   "cell_type": "code",
   "execution_count": 7,
   "metadata": {},
   "outputs": [
    {
     "name": "stdout",
     "output_type": "stream",
     "text": [
      "\n",
      "Cumulative Frequency:\n",
      "Score 78: Cumulative Frequency 1\n",
      "Score 85: Cumulative Frequency 3\n",
      "Score 88: Cumulative Frequency 6\n",
      "Score 90: Cumulative Frequency 7\n",
      "Score 92: Cumulative Frequency 9\n",
      "Score 95: Cumulative Frequency 10\n"
     ]
    }
   ],
   "source": [
    "# Calculate cumulative frequency\n",
    "cumulative_frequency = {}\n",
    "total = 0\n",
    "for score, count in sorted(frequency_dist.items()):\n",
    "    total += count\n",
    "    cumulative_frequency[score] = total\n",
    "\n",
    "# Print the cumulative frequency\n",
    "print(\"\\nCumulative Frequency:\")\n",
    "for score, cum_freq in cumulative_frequency.items():\n",
    "    print(f\"Score {score}: Cumulative Frequency {cum_freq}\")\n"
   ]
  },
  {
   "cell_type": "code",
   "execution_count": 8,
   "metadata": {},
   "outputs": [
    {
     "name": "stdout",
     "output_type": "stream",
     "text": [
      "Passing Percentage: 70.0%\n"
     ]
    }
   ],
   "source": [
    "# Calculate the percentage of a value in a dataset\n",
    "total_students = 50\n",
    "passing_students = 35\n",
    "\n",
    "passing_percentage = (passing_students / total_students) * 100\n",
    "print(f\"Passing Percentage: {passing_percentage}%\")\n"
   ]
  },
  {
   "cell_type": "markdown",
   "metadata": {},
   "source": [
    "## Percentile:\n",
    "\n",
    "\n",
    "#### A percentile is a measure used in statistics to indicate the relative standing of a particular value within a dataset. It represents the percentage of data points below a certain value."
   ]
  },
  {
   "cell_type": "code",
   "execution_count": 9,
   "metadata": {},
   "outputs": [
    {
     "name": "stdout",
     "output_type": "stream",
     "text": [
      "75th Percentile (Q3): 40.0\n"
     ]
    }
   ],
   "source": [
    "import numpy as np\n",
    "\n",
    "# Calculate the 75th percentile (Q3) of a dataset\n",
    "data = [10, 15, 20, 25, 30, 35, 40, 45, 50]\n",
    "percentile_75 = np.percentile(data, 75)\n",
    "print(f\"75th Percentile (Q3): {percentile_75}\")\n"
   ]
  },
  {
   "cell_type": "code",
   "execution_count": null,
   "metadata": {},
   "outputs": [],
   "source": []
  },
  {
   "cell_type": "markdown",
   "metadata": {},
   "source": [
    "## Quartiles:\n",
    "\n",
    "#### Quartiles divide a dataset into four equal parts. The three quartiles, Q1, Q2 (median), and Q3, represent the 25th, 50th, and 75th percentiles, respectively."
   ]
  },
  {
   "cell_type": "code",
   "execution_count": 10,
   "metadata": {},
   "outputs": [
    {
     "name": "stdout",
     "output_type": "stream",
     "text": [
      "Q1: 20.0, Median: 28.0, Q3: 36.0\n"
     ]
    }
   ],
   "source": [
    "import numpy as np\n",
    "\n",
    "# Calculate quartiles of a dataset\n",
    "data = [12, 18, 20, 24, 28, 32, 36, 40, 44]\n",
    "q1 = np.percentile(data, 25)\n",
    "median = np.percentile(data, 50)\n",
    "q3 = np.percentile(data, 75)\n",
    "\n",
    "print(f\"Q1: {q1}, Median: {median}, Q3: {q3}\")\n"
   ]
  },
  {
   "cell_type": "markdown",
   "metadata": {},
   "source": [
    "## Five-Number Summary in Statistics:"
   ]
  },
  {
   "cell_type": "markdown",
   "metadata": {},
   "source": [
    "\n",
    "\n",
    "##### The five-number summary is a descriptive statistic that provides a concise summary of the distribution of a dataset. It consists of five key values: the minimum, the first quartile (Q1), the median (Q2), the third quartile (Q3), and the maximum. These values help understand the central tendency and spread of the data."
   ]
  },
  {
   "cell_type": "markdown",
   "metadata": {},
   "source": [
    "### but first we have to remove outier "
   ]
  },
  {
   "cell_type": "markdown",
   "metadata": {},
   "source": [
    "# interquartile range (IQR)  = Q3 - Q1  \n",
    "\n",
    "# Lowerfance =   Q1 - 1.5(IQR)   \n",
    "\n",
    "# higherfance =   Q3 + 1.5(IQR)   \n",
    "\n",
    "# Lf <------> HF   , remove outlier "
   ]
  },
  {
   "cell_type": "code",
   "execution_count": null,
   "metadata": {},
   "outputs": [],
   "source": []
  },
  {
   "cell_type": "code",
   "execution_count": 11,
   "metadata": {},
   "outputs": [
    {
     "name": "stdout",
     "output_type": "stream",
     "text": [
      "Minimum: 15, Q1: 22.0, Median: 28.0, Q3: 36.0, Maximum: 45\n"
     ]
    }
   ],
   "source": [
    "import numpy as np\n",
    "\n",
    "# Calculate the five-number summary of a dataset\n",
    "data = [15, 20, 22, 25, 28, 32, 36, 40, 45]\n",
    "\n",
    "minimum = np.min(data)\n",
    "q1 = np.percentile(data, 25)\n",
    "median = np.median(data)\n",
    "q3 = np.percentile(data, 75)\n",
    "maximum = np.max(data)\n",
    "\n",
    "print(f\"Minimum: {minimum}, Q1: {q1}, Median: {median}, Q3: {q3}, Maximum: {maximum}\")\n"
   ]
  },
  {
   "cell_type": "code",
   "execution_count": null,
   "metadata": {},
   "outputs": [],
   "source": []
  },
  {
   "cell_type": "code",
   "execution_count": null,
   "metadata": {},
   "outputs": [],
   "source": []
  }
 ],
 "metadata": {
  "kernelspec": {
   "display_name": "base",
   "language": "python",
   "name": "python3"
  },
  "language_info": {
   "codemirror_mode": {
    "name": "ipython",
    "version": 3
   },
   "file_extension": ".py",
   "mimetype": "text/x-python",
   "name": "python",
   "nbconvert_exporter": "python",
   "pygments_lexer": "ipython3",
   "version": "3.11.5"
  }
 },
 "nbformat": 4,
 "nbformat_minor": 2
}
